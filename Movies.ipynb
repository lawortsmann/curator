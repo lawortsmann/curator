{
 "cells": [
  {
   "cell_type": "code",
   "execution_count": 1,
   "metadata": {},
   "outputs": [],
   "source": [
    "import numpy as np\n",
    "import pandas as pd\n",
    "import matplotlib.pyplot as plt\n",
    "from movies import *"
   ]
  },
  {
   "cell_type": "code",
   "execution_count": 2,
   "metadata": {},
   "outputs": [],
   "source": [
    "pd.plotting.register_matplotlib_converters()\n",
    "plt.rcParams['figure.figsize'] = [12, 8]\n",
    "# np.warnings.simplefilter(action='ignore')\n",
    "np.set_printoptions(linewidth=120, suppress=True)"
   ]
  },
  {
   "cell_type": "code",
   "execution_count": 9,
   "metadata": {
    "scrolled": true
   },
   "outputs": [],
   "source": [
    "import feedparser\n",
    "\n",
    "\n",
    "## get scripts to import\n",
    "scripts = []\n",
    "feed_url = \"https://www.imsdb.com/feeds/alphabetical.php?letter=%s\"\n",
    "alphabet = list('ABCDEFGHIJKLMNOPQRSTUVWXYZ')\n",
    "for letter in alphabet:\n",
    "    res = feedparser.parse(feed_url%letter)\n",
    "    res = pd.DataFrame(res['entries'])\n",
    "    scripts = scripts + list(res['link'])\n",
    "scripts = list(map(lambda x: x[29:-5], scripts))"
   ]
  },
  {
   "cell_type": "code",
   "execution_count": null,
   "metadata": {},
   "outputs": [
    {
     "name": "stdout",
     "output_type": "stream",
     "text": [
      "Bender-Gets-Made\n",
      "Five-Easy-Pieces\n",
      "The-Farnsworth-Parabox\n",
      "Departed,-The\n",
      "Saving-Mr.-Banks\n",
      "Taking-Lives\n"
     ]
    }
   ],
   "source": [
    "%%time\n",
    "## get subset of scripts\n",
    "use_scripts = np.random.choice(scripts, 100, replace=False)\n",
    "## import scripts...\n",
    "import_scripts(use_scripts, data_dir=\"scripts/\", wait=True)"
   ]
  },
  {
   "cell_type": "code",
   "execution_count": null,
   "metadata": {},
   "outputs": [],
   "source": [
    "%%time\n",
    "## load data\n",
    "scripts = load_scripts(data_dir='scripts/', tokenize=True)\n",
    "vocab, dataset = build_vocab(scripts, min_count=4)\n",
    "pipeline = dataset_generator(dataset, n_batch=64, n_seq=64)\n",
    "\n",
    "## initialize model\n",
    "model = SimpleRNN(len(vocab), n_embed=64, n_hidden=256, n_layers=4, dropout=0.10)\n",
    "\n",
    "## train model\n",
    "w = corpus_invfreq(dataset, sqrt=True)\n",
    "model, logs = training(model, pipeline, w=w, lr=0.1, n_epochs=16, n_steps=64)\n",
    "hist = logs.groupby('epoch').mean()"
   ]
  },
  {
   "cell_type": "code",
   "execution_count": null,
   "metadata": {},
   "outputs": [],
   "source": [
    "## plot loss\n",
    "plt.plot(hist['loss'], 'o-')\n",
    "plt.show()"
   ]
  },
  {
   "cell_type": "code",
   "execution_count": null,
   "metadata": {},
   "outputs": [],
   "source": []
  }
 ],
 "metadata": {
  "kernelspec": {
   "display_name": "Python 3",
   "language": "python",
   "name": "python3"
  },
  "language_info": {
   "codemirror_mode": {
    "name": "ipython",
    "version": 3
   },
   "file_extension": ".py",
   "mimetype": "text/x-python",
   "name": "python",
   "nbconvert_exporter": "python",
   "pygments_lexer": "ipython3",
   "version": "3.7.3"
  }
 },
 "nbformat": 4,
 "nbformat_minor": 2
}
